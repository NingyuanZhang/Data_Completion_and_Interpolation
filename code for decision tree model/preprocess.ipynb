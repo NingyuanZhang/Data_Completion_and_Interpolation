{
 "cells": [
  {
   "cell_type": "code",
   "execution_count": 1,
   "metadata": {},
   "outputs": [],
   "source": [
    "import numpy as np\n",
    "import pandas as pd\n",
    "import math"
   ]
  },
  {
   "cell_type": "code",
   "execution_count": 15,
   "metadata": {},
   "outputs": [],
   "source": [
    "def process(filename,y):\n",
    "    df_1=pd.read_csv(filename)\n",
    "    df_1=pd.DataFrame(df_1,columns=['Participant_ID','big5_01','big5_02','big5_03','big5_04','big5_05','big5_06','big5_07','big5_08','big5_09',\n",
    "                                'big5_10','gender','year','ethnicity','intrinsic_01','intrinsic_02','intrinsic_03','intrinsic_04',\n",
    "                                    'intrinsic_05','intrinsic_06','intrinsic_07','intrinsic_08','intrinsic_09','intrinsic_10',\n",
    "                                    'intrinsic_11','intrinsic_12','intrinsic_13','intrinsic_14','intrinsic_15','mood_01',\n",
    "                                    'mood_02','nfc_01','nfc_02','nfc_03','nfc_04','nfc_05','nfc_06','pate_01','pate_02',\n",
    "                                    'pate_03','pate_04','pate_05','selfesteem_01','stress_01','stress_02','stress_03','stress_04',y])\n",
    "    df_2=df_1[~(df_1[y].isin(['NAN']))]#train data(the value of y is not NAN)\n",
    "    df_3=df_1[(df_1[y].isin(['NAN']))]#test data(the value of y is NAN)\n",
    "    filename1=y+'_train.csv'\n",
    "    filename2=y+'_test.csv'\n",
    "    df_2.to_csv(filename1,index=False)\n",
    "    df_3.to_csv(filename2,index=False)"
   ]
  },
  {
   "cell_type": "code",
   "execution_count": 17,
   "metadata": {},
   "outputs": [],
   "source": [
    "\n",
    "def createDataSet(filename):\n",
    "   \n",
    "    label=[]\n",
    "    for i in range(46):\n",
    "        label.append(\"feature\"+str(i+1))\n",
    "    \n",
    "    df=pd.read_csv(filename)\n",
    "    data_1=np.array(df) #convert df to np.ndarray\n",
    "    data_2=data_1.tolist()#convert np.ndarray to list\n",
    "    data_all=[i[1:] for i in data_2]#discard participant_id\n",
    "    total_num=len(data_all)#the total number of data\n",
    "    data_train=data_all[0:math.floor(0.8*total_num)]#pick the first 80% data to train\n",
    "    data_test=data_all[math.floor(0.8*total_num):] #pick the rest data to calculate test error\n",
    "    return data_train,data_test,label"
   ]
  },
  {
   "cell_type": "code",
   "execution_count": 19,
   "metadata": {},
   "outputs": [],
   "source": [
    "#假设此时需要predict mcmost2\n",
    "#process('out2.csv','mcmost2') \n",
    "#data_train,data_test,labels=createDataSet('mcmost2_train.csv')"
   ]
  },
  {
   "cell_type": "code",
   "execution_count": 21,
   "metadata": {},
   "outputs": [],
   "source": []
  },
  {
   "cell_type": "code",
   "execution_count": null,
   "metadata": {},
   "outputs": [],
   "source": []
  }
 ],
 "metadata": {
  "kernelspec": {
   "display_name": "Python 3",
   "language": "python",
   "name": "python3"
  },
  "language_info": {
   "codemirror_mode": {
    "name": "ipython",
    "version": 3
   },
   "file_extension": ".py",
   "mimetype": "text/x-python",
   "name": "python",
   "nbconvert_exporter": "python",
   "pygments_lexer": "ipython3",
   "version": "3.6.5"
  }
 },
 "nbformat": 4,
 "nbformat_minor": 2
}
